{
  "nbformat": 4,
  "nbformat_minor": 0,
  "metadata": {
    "colab": {
      "provenance": []
    },
    "kernelspec": {
      "name": "python3",
      "display_name": "Python 3"
    },
    "language_info": {
      "name": "python"
    }
  },
  "cells": [
    {
      "cell_type": "code",
      "execution_count": null,
      "metadata": {
        "colab": {
          "base_uri": "https://localhost:8080/",
          "height": 368
        },
        "id": "gIAOZroFtPgg",
        "outputId": "263bff35-7eef-4534-dd57-cad352f156ad"
      },
      "outputs": [
        {
          "output_type": "error",
          "ename": "ImportError",
          "evalue": "cannot import name 'beautifulSoup' from 'bs4' (/usr/local/lib/python3.10/dist-packages/bs4/__init__.py)",
          "traceback": [
            "\u001b[0;31m---------------------------------------------------------------------------\u001b[0m",
            "\u001b[0;31mImportError\u001b[0m                               Traceback (most recent call last)",
            "\u001b[0;32m<ipython-input-1-0be90af79acf>\u001b[0m in \u001b[0;36m<cell line: 3>\u001b[0;34m()\u001b[0m\n\u001b[1;32m      1\u001b[0m \u001b[0;32mimport\u001b[0m \u001b[0mpandas\u001b[0m \u001b[0;32mas\u001b[0m \u001b[0mpd\u001b[0m\u001b[0;34m\u001b[0m\u001b[0;34m\u001b[0m\u001b[0m\n\u001b[1;32m      2\u001b[0m \u001b[0;32mimport\u001b[0m \u001b[0mrequests\u001b[0m\u001b[0;34m\u001b[0m\u001b[0;34m\u001b[0m\u001b[0m\n\u001b[0;32m----> 3\u001b[0;31m \u001b[0;32mfrom\u001b[0m \u001b[0mbs4\u001b[0m \u001b[0;32mimport\u001b[0m \u001b[0mbeautifulSoup\u001b[0m\u001b[0;34m\u001b[0m\u001b[0;34m\u001b[0m\u001b[0m\n\u001b[0m",
            "\u001b[0;31mImportError\u001b[0m: cannot import name 'beautifulSoup' from 'bs4' (/usr/local/lib/python3.10/dist-packages/bs4/__init__.py)",
            "",
            "\u001b[0;31m---------------------------------------------------------------------------\u001b[0;32m\nNOTE: If your import is failing due to a missing package, you can\nmanually install dependencies using either !pip or !apt.\n\nTo view examples of installing some common dependencies, click the\n\"Open Examples\" button below.\n\u001b[0;31m---------------------------------------------------------------------------\u001b[0m\n"
          ],
          "errorDetails": {
            "actions": [
              {
                "action": "open_url",
                "actionText": "Open Examples",
                "url": "/notebooks/snippets/importing_libraries.ipynb"
              }
            ]
          }
        }
      ],
      "source": [
        "import pandas as pd\n",
        "import requests"
      ]
    },
    {
      "cell_type": "code",
      "source": [
        "!pip install bs4"
      ],
      "metadata": {
        "colab": {
          "base_uri": "https://localhost:8080/"
        },
        "id": "vs_Jn5TptbB2",
        "outputId": "053f1592-13cf-4469-b84e-e6dc0b9684d5"
      },
      "execution_count": null,
      "outputs": [
        {
          "output_type": "stream",
          "name": "stdout",
          "text": [
            "Collecting bs4\n",
            "  Downloading bs4-0.0.2-py2.py3-none-any.whl (1.2 kB)\n",
            "Requirement already satisfied: beautifulsoup4 in /usr/local/lib/python3.10/dist-packages (from bs4) (4.12.3)\n",
            "Requirement already satisfied: soupsieve>1.2 in /usr/local/lib/python3.10/dist-packages (from beautifulsoup4->bs4) (2.5)\n",
            "Installing collected packages: bs4\n",
            "Successfully installed bs4-0.0.2\n"
          ]
        }
      ]
    },
    {
      "cell_type": "code",
      "source": [
        "from bs4 import BeautifulSoup"
      ],
      "metadata": {
        "id": "yUy3igHbtlt3"
      },
      "execution_count": null,
      "outputs": []
    },
    {
      "cell_type": "code",
      "source": [
        "headers={'User-Agent':'Mozilla/5.0 (Windows NT 6.3; Win 64 ; x64) Apple WeKit /537.36(KHTML , like Gecko) Chrome/80.0.3987.162 Safari/537.36'}\n",
        "webpage = requests.get(\"https://www.ambitionbox.com/list-of-companies?page=1\", headers = headers ).text"
      ],
      "metadata": {
        "id": "--ZWRgUNtqfv"
      },
      "execution_count": null,
      "outputs": []
    },
    {
      "cell_type": "code",
      "source": [
        "soup = BeautifulSoup(webpage, 'lxml')"
      ],
      "metadata": {
        "id": "TymNYZnTvrmw"
      },
      "execution_count": null,
      "outputs": []
    },
    {
      "cell_type": "code",
      "source": [
        "print(soup.prettify())"
      ],
      "metadata": {
        "id": "5pJbi-jawJaV"
      },
      "execution_count": null,
      "outputs": []
    },
    {
      "cell_type": "code",
      "source": [
        "for i in soup.find_all('h2'):\n",
        "    print(i.text.strip())"
      ],
      "metadata": {
        "id": "ZTblYbVnwRNp"
      },
      "execution_count": null,
      "outputs": []
    },
    {
      "cell_type": "code",
      "source": [
        "for i in soup.find_all('span' ,class_= 'companyCardWrapper__companyRatingValue'):\n",
        "    print(i.text.strip())"
      ],
      "metadata": {
        "id": "CD9PiAHixOc-"
      },
      "execution_count": null,
      "outputs": []
    },
    {
      "cell_type": "code",
      "source": [
        "name=[]\n",
        "rating=[]\n",
        "reviews=[]\n",
        "company = soup.find_all('div' ,class_= 'companyCardWrapper')\n",
        "for i in company:\n",
        "    name.append(i.find('h2').text.strip())\n",
        "    rating.append(i.find('span', class_='companyCardWrapper__companyRatingValue').text.strip())\n",
        "    reviews.append(i.find_all('span', class_= 'companyCardWrapper__ActionCount')[0].text.strip())\n",
        "name\n",
        "rating\n",
        "reviews"
      ],
      "metadata": {
        "id": "xsDdan-Kxp-a"
      },
      "execution_count": null,
      "outputs": []
    },
    {
      "cell_type": "markdown",
      "source": [
        "#Actual scraping from here\n",
        "The internshala webpage data"
      ],
      "metadata": {
        "id": "aL0uOu-S3sbV"
      }
    },
    {
      "cell_type": "code",
      "source": [
        "headers={'User-Agent':'Mozilla/5.0 (Windows NT 6.3; Win 64 ; x64) Apple WeKit /537.36(KHTML , like Gecko) Chrome/80.0.3987.162 Safari/537.36'}\n",
        "webpage = requests.get(\"https://internshala.com/internships/page-2/\", headers = headers ).text\n",
        "secondsoup = BeautifulSoup(webpage, 'lxml')"
      ],
      "metadata": {
        "id": "yL6Zygr00FMO"
      },
      "execution_count": null,
      "outputs": []
    },
    {
      "cell_type": "code",
      "source": [
        "companybox = secondsoup.find_all('div', class_='internship_meta')\n",
        "companybox"
      ],
      "metadata": {
        "id": "Cx6MCoau5jHy"
      },
      "execution_count": null,
      "outputs": []
    },
    {
      "cell_type": "code",
      "source": [
        "\n",
        "role = []\n",
        "company = []\n",
        "location = []\n",
        "duration = []\n",
        "stipend = []\n",
        "\n",
        "for i in companybox:\n",
        "    role.append(i.find('a', class_= 'view_detail_button').text.strip())\n",
        "    company.append(i.find('a', class_= 'link_display_like_text view_detail_button').text.strip())\n",
        "    location.append(i.find('a', class_= 'location_link view_detail_button').text.strip())\n",
        "    duration.append(i.find_all('div', class_= 'item_body')[1].text.strip())\n",
        "    stipend.append(i.find('span', class_= 'stipend').text.strip())\n",
        "\n",
        "\n",
        "# for i in range(40):\n",
        "#     print(role[i], company[i], location[i], duration[i], stipend[i])\n",
        "d = {'role':role, 'company':company, 'location':location, 'duration':duration, 'stipend':stipend}\n",
        "df= pd.DataFrame(d)\n",
        "df"
      ],
      "metadata": {
        "id": "swpW5vZs4Tsa"
      },
      "execution_count": null,
      "outputs": []
    },
    {
      "cell_type": "code",
      "source": [
        "final= pd.DataFrame()\n",
        "for i in range(1,167):\n",
        "    url= \"https://internshala.com/internships/{}\".format(i)\n",
        "    headers={'User-Agent':'Mozilla/5.0 (Windows NT 6.3; Win 64 ; x64) Apple WeKit /537.36(KHTML , like Gecko) Chrome/80.0.3987.162 Safari/537.36'}\n",
        "    webpage = requests.get(url, headers = headers ).text\n",
        "    secondsoup = BeautifulSoup(webpage, 'lxml')\n",
        "    companybox = secondsoup.find_all('div', class_='internship_meta')\n",
        "    role = []\n",
        "    company = []\n",
        "    location = []\n",
        "    duration = []\n",
        "    stipend = []\n",
        "\n",
        "    for i in companybox:\n",
        "        role.append(i.find('a', class_= 'view_detail_button').text.strip())\n",
        "        company.append(i.find('a', class_= 'link_display_like_text view_detail_button').text.strip())\n",
        "        location.append(i.find('a', class_= 'location_link view_detail_button').text.strip())\n",
        "        duration.append(i.find_all('div', class_= 'item_body')[1].text.strip())\n",
        "        stipend.append(i.find('span', class_= 'stipend').text.strip())\n",
        "\n",
        "\n",
        "# for i in range(40):\n",
        "#     print(role[i], company[i], location[i], duration[i], stipend[i])\n",
        "    d = {'role':role, 'company':company, 'location':location, 'duration':duration, 'stipend':stipend}\n",
        "    df= pd.DataFrame(d)\n",
        "    final= final.append(df, ignore_index = True)"
      ],
      "metadata": {
        "id": "FSs4VeG66VEg"
      },
      "execution_count": null,
      "outputs": []
    },
    {
      "cell_type": "code",
      "source": [
        "final.to_csv('internships.csv')"
      ],
      "metadata": {
        "id": "a7GMZo3Z-VFJ"
      },
      "execution_count": null,
      "outputs": []
    },
    {
      "cell_type": "code",
      "source": [],
      "metadata": {
        "id": "LeNYsE-t_jGt"
      },
      "execution_count": null,
      "outputs": []
    }
  ]
}